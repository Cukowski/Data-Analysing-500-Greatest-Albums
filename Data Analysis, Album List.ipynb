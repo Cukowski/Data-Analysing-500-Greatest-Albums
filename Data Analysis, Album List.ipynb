{
 "cells": [
  {
   "cell_type": "code",
   "execution_count": null,
   "id": "dfc080e2",
   "metadata": {},
   "outputs": [],
   "source": [
    "import csv\n",
    "with open('albumlist.csv', 'r') as csvfile:\n",
    "    reader = csv.DictReader(csvfile)\n",
    "    \n",
    "    print(type(reader))\n",
    "    print(reader.fieldnames)"
   ]
  },
  {
   "cell_type": "code",
   "execution_count": null,
   "id": "487ab5ef",
   "metadata": {},
   "outputs": [],
   "source": [
    "with open('albumlist.csv', 'r') as csvfile:\n",
    "    reader = csv.DictReader(csvfile)\n",
    "    \n",
    "    for row in reader:\n",
    "        print(row)"
   ]
  },
  {
   "cell_type": "code",
   "execution_count": null,
   "id": "9675318b",
   "metadata": {},
   "outputs": [],
   "source": [
    "with open('albumlist.csv', 'r') as csvfile:\n",
    "    reader = csv.DictReader(csvfile)\n",
    "    \n",
    "    rows = 101\n",
    "    for row in reader:\n",
    "        rows -= 1\n",
    "        if (rows > 0):\n",
    "            print(row)\n",
    "        else:\n",
    "            break"
   ]
  },
  {
   "cell_type": "code",
   "execution_count": null,
   "id": "15aaba6c",
   "metadata": {},
   "outputs": [],
   "source": [
    "with open('albumlist.csv', 'r') as csvfile:\n",
    "    reader = csv.DictReader(csvfile)\n",
    "    \n",
    "    albums = []\n",
    "    for row in reader:\n",
    "        albums.append(row)\n",
    "        \n",
    "    print(\"number albums: \", len(albums))"
   ]
  },
  {
   "cell_type": "code",
   "execution_count": null,
   "id": "e6240fa2",
   "metadata": {},
   "outputs": [],
   "source": [
    "albums_1974 = [row for row in albums if row[\"Year\"] == \"1974\"]\n",
    "print(\"Number of albums in 1974: \", len(albums_1974))"
   ]
  },
  {
   "cell_type": "code",
   "execution_count": null,
   "id": "41694f56",
   "metadata": {},
   "outputs": [],
   "source": [
    "for album in albums_1974:\n",
    "    print(album[\"Album\"], \"by\", album[\"Artist\"])"
   ]
  },
  {
   "cell_type": "code",
   "execution_count": null,
   "id": "31ced48b",
   "metadata": {},
   "outputs": [],
   "source": [
    "print([row for row in albums if album[\"Year\"] == \"1974\"][:10])"
   ]
  },
  {
   "cell_type": "code",
   "execution_count": null,
   "id": "efe0ce38",
   "metadata": {},
   "outputs": [],
   "source": [
    "rock_albums = [row for row in albums if(row[\"Genre\"] == \"Rock\" \n",
    "                and (\"Pop Rock\" in row[\"Subgenre\"] or \"Fusion\" in row[\"Subgenre\"]))\n",
    "              ]\n",
    "for album in rock_albums:\n",
    "    print(album[\"Album\"], album[\"Artist\"], album[\"Genre\"], album[\"Subgenre\"])"
   ]
  },
  {
   "cell_type": "code",
   "execution_count": null,
   "id": "cd9ea678",
   "metadata": {},
   "outputs": [],
   "source": [
    "release_years = [int(row[\"Year\"]) for row in albums if row[\"Year\"]]"
   ]
  },
  {
   "cell_type": "code",
   "execution_count": null,
   "id": "332cada8",
   "metadata": {},
   "outputs": [],
   "source": [
    "release_years"
   ]
  },
  {
   "cell_type": "code",
   "execution_count": null,
   "id": "c0d62577",
   "metadata": {},
   "outputs": [],
   "source": [
    "def is_valid_year(string):\n",
    "    try:\n",
    "        year = int(string)\n",
    "    except ValueError:\n",
    "            return False\n",
    "    else:\n",
    "        return year"
   ]
  },
  {
   "cell_type": "code",
   "execution_count": null,
   "id": "33d41843",
   "metadata": {},
   "outputs": [],
   "source": [
    "release_years = [int(row[\"Year\"]) for row in albums if(is_valid_year(row[\"Year\"]))]\n",
    "print(release_years)"
   ]
  },
  {
   "cell_type": "raw",
   "id": "e79cba95",
   "metadata": {},
   "source": []
  },
  {
   "cell_type": "code",
   "execution_count": null,
   "id": "2c4b6e2f",
   "metadata": {},
   "outputs": [],
   "source": [
    "min_release_date = min(release_years)\n",
    "print(min_release_date)"
   ]
  },
  {
   "cell_type": "code",
   "execution_count": null,
   "id": "a2ceafa8",
   "metadata": {},
   "outputs": [],
   "source": [
    "double_l = lambda x: x * 2\n",
    "double_l(4)"
   ]
  },
  {
   "cell_type": "code",
   "execution_count": null,
   "id": "585ed1bf",
   "metadata": {},
   "outputs": [],
   "source": [
    "albums_sorted = sorted(albums, key = lambda x: x[\"Artist\"])\n",
    "print(albums_sorted)"
   ]
  },
  {
   "cell_type": "code",
   "execution_count": null,
   "id": "3ffcd094",
   "metadata": {},
   "outputs": [],
   "source": [
    "valid_albums = [row for row in albums if is_valid_year(row['Year'])]\n",
    "album_max = max(valid_albums, key = lambda x: x[\"Year\"])\n",
    "print(album_max[\"Album\"], album_max[\"Artist\"], album_max[\"Year\"])"
   ]
  },
  {
   "cell_type": "code",
   "execution_count": null,
   "id": "ed91d18f",
   "metadata": {},
   "outputs": [],
   "source": []
  }
 ],
 "metadata": {
  "kernelspec": {
   "display_name": "Python 3 (ipykernel)",
   "language": "python",
   "name": "python3"
  },
  "language_info": {
   "codemirror_mode": {
    "name": "ipython",
    "version": 3
   },
   "file_extension": ".py",
   "mimetype": "text/x-python",
   "name": "python",
   "nbconvert_exporter": "python",
   "pygments_lexer": "ipython3",
   "version": "3.11.5"
  }
 },
 "nbformat": 4,
 "nbformat_minor": 5
}
